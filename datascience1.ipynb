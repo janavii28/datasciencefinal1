{
 "cells": [
  {
   "cell_type": "markdown",
   "id": "f8d0c1b0-fb7c-4abe-8dfe-8d3e3ea083f0",
   "metadata": {},
   "source": [
    "**Data science tools and ecosystem**"
   ]
  },
  {
   "cell_type": "markdown",
   "id": "6f33e510-1938-48c5-92f2-e9635bec01ae",
   "metadata": {},
   "source": [
    "_In this notebook, data science tools and ecosystems are summarized_"
   ]
  },
  {
   "cell_type": "markdown",
   "id": "ebaa7f05-0cab-4e8b-bb06-db85370fdb3a",
   "metadata": {},
   "source": [
    "Some of the popular languages that data scientists use are"
   ]
  },
  {
   "cell_type": "markdown",
   "id": "668e937c-949b-4b39-8ffa-71cc01d49661",
   "metadata": {},
   "source": [
    "1. Python\n",
    "2. R\n",
    "3. SQL\n",
    "4. C++\n",
    "5. Java"
   ]
  },
  {
   "cell_type": "markdown",
   "id": "84d06db0-b9af-4d11-905c-e0fddff57780",
   "metadata": {},
   "source": []
  },
  {
   "cell_type": "markdown",
   "id": "ac3043e6-dd52-4e06-aead-71573a62c6af",
   "metadata": {},
   "source": [
    "Some of the commonly used liabraries used by data scientists include:"
   ]
  },
  {
   "cell_type": "markdown",
   "id": "8c23ad83-e991-434b-bb89-0a56214a636e",
   "metadata": {},
   "source": [
    "1. Numpfy\n",
    "2. Pandas\n",
    "3. Scipy\n",
    "4. Dask\n",
    "5. Transformers"
   ]
  },
  {
   "cell_type": "markdown",
   "id": "ab5c65ae-0d9d-4f25-a7b4-174f28b58b60",
   "metadata": {},
   "source": [
    "|Data Science Tools|\n",
    "|---|\n",
    "|SAS|\n",
    "|Apache Hadoop|\n",
    "|TensorFlow|"
   ]
  },
  {
   "cell_type": "markdown",
   "id": "2c278901-d840-4020-9b04-0e666195e176",
   "metadata": {},
   "source": [
    "**Below are a few examples of evaluating arithmetic expressions in python**"
   ]
  },
  {
   "cell_type": "code",
   "execution_count": 5,
   "id": "04387c9a-38ac-423e-8f9e-af5fdc301f6b",
   "metadata": {},
   "outputs": [
    {
     "data": {
      "text/plain": [
       "17"
      ]
     },
     "execution_count": 5,
     "metadata": {},
     "output_type": "execute_result"
    }
   ],
   "source": [
    "#this is a common arithmetic example to multiply and then add integers \n",
    "(3*4)+5"
   ]
  },
  {
   "cell_type": "code",
   "execution_count": 6,
   "id": "06cc3eb0-8fe1-4f39-a2b0-8c66f2dff22e",
   "metadata": {},
   "outputs": [
    {
     "data": {
      "text/plain": [
       "3.3333333333333335"
      ]
     },
     "execution_count": 6,
     "metadata": {},
     "output_type": "execute_result"
    }
   ],
   "source": [
    "#This will convert 200 minutes to hours by dividing by 60\n",
    "200/60"
   ]
  },
  {
   "cell_type": "markdown",
   "id": "8d1ac6ea-3f5f-445d-ba88-f6aa1c7f95b2",
   "metadata": {},
   "source": [
    "__objectives__\n",
    "* List popular languages for Data Science\n",
    "* List popular liabraries for Data Science \n",
    "* List of well known Data Science tools \n",
    "* How to provide comments in the cell\n",
    "                        "
   ]
  },
  {
   "cell_type": "markdown",
   "id": "5c35230f-2c99-4297-bd0a-08bdbca54dc4",
   "metadata": {},
   "source": [
    "**Auhtor**\n",
    "\n",
    "Janavi Aigal"
   ]
  },
  {
   "cell_type": "code",
   "execution_count": null,
   "id": "3852faf3-da07-4330-bab5-bd4d14a5a4e4",
   "metadata": {},
   "outputs": [],
   "source": []
  }
 ],
 "metadata": {
  "kernelspec": {
   "display_name": "Python 3 (ipykernel)",
   "language": "python",
   "name": "python3"
  },
  "language_info": {
   "codemirror_mode": {
    "name": "ipython",
    "version": 3
   },
   "file_extension": ".py",
   "mimetype": "text/x-python",
   "name": "python",
   "nbconvert_exporter": "python",
   "pygments_lexer": "ipython3",
   "version": "3.13.0"
  }
 },
 "nbformat": 4,
 "nbformat_minor": 5
}
